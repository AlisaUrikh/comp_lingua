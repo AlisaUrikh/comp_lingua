{
  "nbformat": 4,
  "nbformat_minor": 0,
  "metadata": {
    "colab": {
      "provenance": [],
      "authorship_tag": "ABX9TyM3+KpV4iscK0tiqoZtgjTU",
      "include_colab_link": true
    },
    "kernelspec": {
      "name": "python3",
      "display_name": "Python 3"
    },
    "language_info": {
      "name": "python"
    }
  },
  "cells": [
    {
      "cell_type": "markdown",
      "metadata": {
        "id": "view-in-github",
        "colab_type": "text"
      },
      "source": [
        "<a href=\"https://colab.research.google.com/github/AlisaUrikh/comp_lingua/blob/main/RBMT_practice.ipynb\" target=\"_parent\"><img src=\"https://colab.research.google.com/assets/colab-badge.svg\" alt=\"Open In Colab\"/></a>"
      ]
    },
    {
      "cell_type": "code",
      "execution_count": 2,
      "metadata": {
        "id": "iGGqwbWmxtaQ",
        "colab": {
          "base_uri": "https://localhost:8080/",
          "height": 720
        },
        "outputId": "a83c0a39-ba25-4f98-f102-c0e70a36f0f9"
      },
      "outputs": [
        {
          "output_type": "error",
          "ename": "LookupError",
          "evalue": "\n**********************************************************************\n  Resource \u001b[93mpunkt_tab\u001b[0m not found.\n  Please use the NLTK Downloader to obtain the resource:\n\n  \u001b[31m>>> import nltk\n  >>> nltk.download('punkt_tab')\n  \u001b[0m\n  For more information see: https://www.nltk.org/data.html\n\n  Attempted to load \u001b[93mtokenizers/punkt_tab/english/\u001b[0m\n\n  Searched in:\n    - '/root/nltk_data'\n    - '/usr/nltk_data'\n    - '/usr/share/nltk_data'\n    - '/usr/lib/nltk_data'\n    - '/usr/share/nltk_data'\n    - '/usr/local/share/nltk_data'\n    - '/usr/lib/nltk_data'\n    - '/usr/local/lib/nltk_data'\n**********************************************************************\n",
          "traceback": [
            "\u001b[0;31m---------------------------------------------------------------------------\u001b[0m",
            "\u001b[0;31mLookupError\u001b[0m                               Traceback (most recent call last)",
            "\u001b[0;32m<ipython-input-2-37627302fb3c>\u001b[0m in \u001b[0;36m<cell line: 21>\u001b[0;34m()\u001b[0m\n\u001b[1;32m     19\u001b[0m \u001b[0;34m\u001b[0m\u001b[0m\n\u001b[1;32m     20\u001b[0m \u001b[0mtext\u001b[0m \u001b[0;34m=\u001b[0m \u001b[0;34m\"Cześć, jak się masz?\"\u001b[0m\u001b[0;34m\u001b[0m\u001b[0;34m\u001b[0m\u001b[0m\n\u001b[0;32m---> 21\u001b[0;31m \u001b[0mtokens\u001b[0m \u001b[0;34m=\u001b[0m \u001b[0mword_tokenize\u001b[0m\u001b[0;34m(\u001b[0m\u001b[0mtext\u001b[0m\u001b[0;34m)\u001b[0m\u001b[0;34m\u001b[0m\u001b[0;34m\u001b[0m\u001b[0m\n\u001b[0m\u001b[1;32m     22\u001b[0m \u001b[0mprint\u001b[0m\u001b[0;34m(\u001b[0m\u001b[0mtokens\u001b[0m\u001b[0;34m)\u001b[0m\u001b[0;34m\u001b[0m\u001b[0;34m\u001b[0m\u001b[0m\n\u001b[1;32m     23\u001b[0m \u001b[0;34m\u001b[0m\u001b[0m\n",
            "\u001b[0;32m/usr/local/lib/python3.10/dist-packages/nltk/tokenize/__init__.py\u001b[0m in \u001b[0;36mword_tokenize\u001b[0;34m(text, language, preserve_line)\u001b[0m\n\u001b[1;32m    140\u001b[0m     \u001b[0;34m:\u001b[0m\u001b[0mtype\u001b[0m \u001b[0mpreserve_line\u001b[0m\u001b[0;34m:\u001b[0m \u001b[0mbool\u001b[0m\u001b[0;34m\u001b[0m\u001b[0;34m\u001b[0m\u001b[0m\n\u001b[1;32m    141\u001b[0m     \"\"\"\n\u001b[0;32m--> 142\u001b[0;31m     \u001b[0msentences\u001b[0m \u001b[0;34m=\u001b[0m \u001b[0;34m[\u001b[0m\u001b[0mtext\u001b[0m\u001b[0;34m]\u001b[0m \u001b[0;32mif\u001b[0m \u001b[0mpreserve_line\u001b[0m \u001b[0;32melse\u001b[0m \u001b[0msent_tokenize\u001b[0m\u001b[0;34m(\u001b[0m\u001b[0mtext\u001b[0m\u001b[0;34m,\u001b[0m \u001b[0mlanguage\u001b[0m\u001b[0;34m)\u001b[0m\u001b[0;34m\u001b[0m\u001b[0;34m\u001b[0m\u001b[0m\n\u001b[0m\u001b[1;32m    143\u001b[0m     return [\n\u001b[1;32m    144\u001b[0m         \u001b[0mtoken\u001b[0m \u001b[0;32mfor\u001b[0m \u001b[0msent\u001b[0m \u001b[0;32min\u001b[0m \u001b[0msentences\u001b[0m \u001b[0;32mfor\u001b[0m \u001b[0mtoken\u001b[0m \u001b[0;32min\u001b[0m \u001b[0m_treebank_word_tokenizer\u001b[0m\u001b[0;34m.\u001b[0m\u001b[0mtokenize\u001b[0m\u001b[0;34m(\u001b[0m\u001b[0msent\u001b[0m\u001b[0;34m)\u001b[0m\u001b[0;34m\u001b[0m\u001b[0;34m\u001b[0m\u001b[0m\n",
            "\u001b[0;32m/usr/local/lib/python3.10/dist-packages/nltk/tokenize/__init__.py\u001b[0m in \u001b[0;36msent_tokenize\u001b[0;34m(text, language)\u001b[0m\n\u001b[1;32m    117\u001b[0m     \u001b[0;34m:\u001b[0m\u001b[0mparam\u001b[0m \u001b[0mlanguage\u001b[0m\u001b[0;34m:\u001b[0m \u001b[0mthe\u001b[0m \u001b[0mmodel\u001b[0m \u001b[0mname\u001b[0m \u001b[0;32min\u001b[0m \u001b[0mthe\u001b[0m \u001b[0mPunkt\u001b[0m \u001b[0mcorpus\u001b[0m\u001b[0;34m\u001b[0m\u001b[0;34m\u001b[0m\u001b[0m\n\u001b[1;32m    118\u001b[0m     \"\"\"\n\u001b[0;32m--> 119\u001b[0;31m     \u001b[0mtokenizer\u001b[0m \u001b[0;34m=\u001b[0m \u001b[0m_get_punkt_tokenizer\u001b[0m\u001b[0;34m(\u001b[0m\u001b[0mlanguage\u001b[0m\u001b[0;34m)\u001b[0m\u001b[0;34m\u001b[0m\u001b[0;34m\u001b[0m\u001b[0m\n\u001b[0m\u001b[1;32m    120\u001b[0m     \u001b[0;32mreturn\u001b[0m \u001b[0mtokenizer\u001b[0m\u001b[0;34m.\u001b[0m\u001b[0mtokenize\u001b[0m\u001b[0;34m(\u001b[0m\u001b[0mtext\u001b[0m\u001b[0;34m)\u001b[0m\u001b[0;34m\u001b[0m\u001b[0;34m\u001b[0m\u001b[0m\n\u001b[1;32m    121\u001b[0m \u001b[0;34m\u001b[0m\u001b[0m\n",
            "\u001b[0;32m/usr/local/lib/python3.10/dist-packages/nltk/tokenize/__init__.py\u001b[0m in \u001b[0;36m_get_punkt_tokenizer\u001b[0;34m(language)\u001b[0m\n\u001b[1;32m    103\u001b[0m     \u001b[0;34m:\u001b[0m\u001b[0mtype\u001b[0m \u001b[0mlanguage\u001b[0m\u001b[0;34m:\u001b[0m \u001b[0mstr\u001b[0m\u001b[0;34m\u001b[0m\u001b[0;34m\u001b[0m\u001b[0m\n\u001b[1;32m    104\u001b[0m     \"\"\"\n\u001b[0;32m--> 105\u001b[0;31m     \u001b[0;32mreturn\u001b[0m \u001b[0mPunktTokenizer\u001b[0m\u001b[0;34m(\u001b[0m\u001b[0mlanguage\u001b[0m\u001b[0;34m)\u001b[0m\u001b[0;34m\u001b[0m\u001b[0;34m\u001b[0m\u001b[0m\n\u001b[0m\u001b[1;32m    106\u001b[0m \u001b[0;34m\u001b[0m\u001b[0m\n\u001b[1;32m    107\u001b[0m \u001b[0;34m\u001b[0m\u001b[0m\n",
            "\u001b[0;32m/usr/local/lib/python3.10/dist-packages/nltk/tokenize/punkt.py\u001b[0m in \u001b[0;36m__init__\u001b[0;34m(self, lang)\u001b[0m\n\u001b[1;32m   1742\u001b[0m     \u001b[0;32mdef\u001b[0m \u001b[0m__init__\u001b[0m\u001b[0;34m(\u001b[0m\u001b[0mself\u001b[0m\u001b[0;34m,\u001b[0m \u001b[0mlang\u001b[0m\u001b[0;34m=\u001b[0m\u001b[0;34m\"english\"\u001b[0m\u001b[0;34m)\u001b[0m\u001b[0;34m:\u001b[0m\u001b[0;34m\u001b[0m\u001b[0;34m\u001b[0m\u001b[0m\n\u001b[1;32m   1743\u001b[0m         \u001b[0mPunktSentenceTokenizer\u001b[0m\u001b[0;34m.\u001b[0m\u001b[0m__init__\u001b[0m\u001b[0;34m(\u001b[0m\u001b[0mself\u001b[0m\u001b[0;34m)\u001b[0m\u001b[0;34m\u001b[0m\u001b[0;34m\u001b[0m\u001b[0m\n\u001b[0;32m-> 1744\u001b[0;31m         \u001b[0mself\u001b[0m\u001b[0;34m.\u001b[0m\u001b[0mload_lang\u001b[0m\u001b[0;34m(\u001b[0m\u001b[0mlang\u001b[0m\u001b[0;34m)\u001b[0m\u001b[0;34m\u001b[0m\u001b[0;34m\u001b[0m\u001b[0m\n\u001b[0m\u001b[1;32m   1745\u001b[0m \u001b[0;34m\u001b[0m\u001b[0m\n\u001b[1;32m   1746\u001b[0m     \u001b[0;32mdef\u001b[0m \u001b[0mload_lang\u001b[0m\u001b[0;34m(\u001b[0m\u001b[0mself\u001b[0m\u001b[0;34m,\u001b[0m \u001b[0mlang\u001b[0m\u001b[0;34m=\u001b[0m\u001b[0;34m\"english\"\u001b[0m\u001b[0;34m)\u001b[0m\u001b[0;34m:\u001b[0m\u001b[0;34m\u001b[0m\u001b[0;34m\u001b[0m\u001b[0m\n",
            "\u001b[0;32m/usr/local/lib/python3.10/dist-packages/nltk/tokenize/punkt.py\u001b[0m in \u001b[0;36mload_lang\u001b[0;34m(self, lang)\u001b[0m\n\u001b[1;32m   1747\u001b[0m         \u001b[0;32mfrom\u001b[0m \u001b[0mnltk\u001b[0m\u001b[0;34m.\u001b[0m\u001b[0mdata\u001b[0m \u001b[0;32mimport\u001b[0m \u001b[0mfind\u001b[0m\u001b[0;34m\u001b[0m\u001b[0;34m\u001b[0m\u001b[0m\n\u001b[1;32m   1748\u001b[0m \u001b[0;34m\u001b[0m\u001b[0m\n\u001b[0;32m-> 1749\u001b[0;31m         \u001b[0mlang_dir\u001b[0m \u001b[0;34m=\u001b[0m \u001b[0mfind\u001b[0m\u001b[0;34m(\u001b[0m\u001b[0;34mf\"tokenizers/punkt_tab/{lang}/\"\u001b[0m\u001b[0;34m)\u001b[0m\u001b[0;34m\u001b[0m\u001b[0;34m\u001b[0m\u001b[0m\n\u001b[0m\u001b[1;32m   1750\u001b[0m         \u001b[0mself\u001b[0m\u001b[0;34m.\u001b[0m\u001b[0m_params\u001b[0m \u001b[0;34m=\u001b[0m \u001b[0mload_punkt_params\u001b[0m\u001b[0;34m(\u001b[0m\u001b[0mlang_dir\u001b[0m\u001b[0;34m)\u001b[0m\u001b[0;34m\u001b[0m\u001b[0;34m\u001b[0m\u001b[0m\n\u001b[1;32m   1751\u001b[0m         \u001b[0mself\u001b[0m\u001b[0;34m.\u001b[0m\u001b[0m_lang\u001b[0m \u001b[0;34m=\u001b[0m \u001b[0mlang\u001b[0m\u001b[0;34m\u001b[0m\u001b[0;34m\u001b[0m\u001b[0m\n",
            "\u001b[0;32m/usr/local/lib/python3.10/dist-packages/nltk/data.py\u001b[0m in \u001b[0;36mfind\u001b[0;34m(resource_name, paths)\u001b[0m\n\u001b[1;32m    577\u001b[0m     \u001b[0msep\u001b[0m \u001b[0;34m=\u001b[0m \u001b[0;34m\"*\"\u001b[0m \u001b[0;34m*\u001b[0m \u001b[0;36m70\u001b[0m\u001b[0;34m\u001b[0m\u001b[0;34m\u001b[0m\u001b[0m\n\u001b[1;32m    578\u001b[0m     \u001b[0mresource_not_found\u001b[0m \u001b[0;34m=\u001b[0m \u001b[0;34mf\"\\n{sep}\\n{msg}\\n{sep}\\n\"\u001b[0m\u001b[0;34m\u001b[0m\u001b[0;34m\u001b[0m\u001b[0m\n\u001b[0;32m--> 579\u001b[0;31m     \u001b[0;32mraise\u001b[0m \u001b[0mLookupError\u001b[0m\u001b[0;34m(\u001b[0m\u001b[0mresource_not_found\u001b[0m\u001b[0;34m)\u001b[0m\u001b[0;34m\u001b[0m\u001b[0;34m\u001b[0m\u001b[0m\n\u001b[0m\u001b[1;32m    580\u001b[0m \u001b[0;34m\u001b[0m\u001b[0m\n\u001b[1;32m    581\u001b[0m \u001b[0;34m\u001b[0m\u001b[0m\n",
            "\u001b[0;31mLookupError\u001b[0m: \n**********************************************************************\n  Resource \u001b[93mpunkt_tab\u001b[0m not found.\n  Please use the NLTK Downloader to obtain the resource:\n\n  \u001b[31m>>> import nltk\n  >>> nltk.download('punkt_tab')\n  \u001b[0m\n  For more information see: https://www.nltk.org/data.html\n\n  Attempted to load \u001b[93mtokenizers/punkt_tab/english/\u001b[0m\n\n  Searched in:\n    - '/root/nltk_data'\n    - '/usr/nltk_data'\n    - '/usr/share/nltk_data'\n    - '/usr/lib/nltk_data'\n    - '/usr/share/nltk_data'\n    - '/usr/local/share/nltk_data'\n    - '/usr/lib/nltk_data'\n    - '/usr/local/lib/nltk_data'\n**********************************************************************\n"
          ]
        }
      ],
      "source": [
        "#1. Я выбрала пару языков: Русский и Итальянский.\n",
        "\n",
        "#2. Пре-процессинг данных для создания системы машинного перевода на правилах включает несколько шагов:\n",
        "#- Токенизация (разделение текста на слова и знаки препинания)\n",
        "#- Нормализация текста (удаление лишних пробелов, преобразование текста в нижний регистр)\n",
        "#- Лемматизация (приведение слов к их начальной форме)\n",
        "#- Частеречная разметка (POS-теггинг)\n",
        "#- Удаление стоп-слов\n",
        "\n",
        "#Для этих операций можно использовать библиотеки:\n",
        "#- nltk + spacy: токенизация, лемматизация и удаление стоп-слов\n",
        "#- re: регулярные выражения\n",
        "#- pandas: хранение и манипуляции данными\n",
        "\n",
        "import nltk\n",
        "import spacy\n",
        "import re\n",
        "from nltk.tokenize import word_tokenize\n",
        "\n",
        "text = \"Cześć, jak się masz?\"\n",
        "tokens = word_tokenize(text)\n",
        "print(tokens)\n",
        "\n",
        "# Пример использования spacy для лемматизации\n",
        "nlp = spacy.load(\"pl_core_news_sm\")\n",
        "doc = nlp(text)\n",
        "lemmas = [token.lemma_ for token in doc]\n",
        "print(lemmas)\n",
        "\n",
        "## 3. Приведите 3 примера правил для этих языков:\n",
        "# 1) Порядок слов (SVO против свободного порядка)\n",
        "#Итальянский язык следует строгому порядку слов SVO (подлежащее-глагол-дополнение), в то время как русский язык допускает свободный порядок слов.\n",
        "#Русский: \"На столе лежит книга.\"\n",
        "#Итальянский: \"Il libro è sul tavolo.\"\n",
        "\n",
        "# 2) 1. Использование артиклей в итальянском языке\n",
        "#В итальянском языке артикли обязательны перед существительными, тогда как в русском языке их нет.\n",
        "\n",
        "#Русский: \"Я читаю книгу.\"\n",
        "#Итальянский: \"Io leggo un libro.\"\n",
        "#Итальянский язык различает определенные (il, la, i, le) и неопределенные артикли (un, una), в зависимости от рода, числа и определенности объекта.\n",
        "\n",
        "# 3. В русском языке возвратные глаголы формируются с помощью постфикса -ся или -сь: *мыться, учиться, радоваться.*\n",
        "#В польском языке возвратность выражается частицей się, которая пишется отдельно:\n",
        "\n",
        "#*myć się* (мыться),\n",
        "#*uczyć się* (учиться),\n",
        "#*cieszyć się* (радоваться).\n",
        "#Кроме того, в польском языке частица *się* часто перемещается в зависимости от порядка слов:\n",
        "\n",
        "#*Cieszę się bardzo.* (Я очень радуюсь.)\n",
        "#*Bardzo się cieszę.* (Очень радуюсь.)"
      ]
    },
    {
      "cell_type": "markdown",
      "source": [
        "1. Я выбрала пару языков: *Русский и Итальянский*.\n",
        "\n",
        "2. Пре-процессинг данных для создания системы машинного перевода на правилах включает несколько шагов:\n",
        "- Токенизация (разделение текста на слова и знаки препинания)\n",
        "- Нормализация текста (удаление лишних пробелов, преобразование текста в нижний регистр)\n",
        "- Лемматизация (приведение слов к их начальной форме)\n",
        "- Частеречная разметка (POS-теггинг)\n",
        "- Удаление стоп-слов\n",
        "\n",
        "Для этих операций можно использовать библиотеки:\n",
        "- nltk + spacy: токенизация, лемматизация и удаление стоп-слов\n",
        "- re: регулярные выражения\n",
        "- pandas: хранение и манипуляции данными\n",
        "\n",
        "\n",
        "3. Приведите 3 примера правил для этих языков:\n",
        "- Порядок слов (SVO против свободного порядка)\n",
        "\n",
        "\n",
        "Итальянский язык следует строгому порядку слов SVO (подлежащее-глагол-дополнение), в то время как русский язык допускает свободный порядок слов.\n",
        "\n",
        "\n",
        "Русский: *На столе лежит книга.*\n",
        "\n",
        "Итальянский: *Il libro è sul tavolo.*\n",
        "\n",
        "\n",
        "\n",
        "- Использование артиклей\n",
        "\n",
        "В итальянском языке артикли обязательны перед существительными, тогда как в русском языке их нет.\n",
        "Итальянский язык различает определенные (*il, la, i, le*) и неопределенные артикли (*un, una*), в зависимости от рода, числа и определенности объекта.\n",
        "\n",
        "Русский: *Я читаю книгу.*\n",
        "\n",
        "Итальянский: *Io leggo un libro.*\n",
        "\n",
        "\n",
        "- Множественное число\n",
        "\n",
        "В русском языке множественное число образуется с помощью окончаний (например, *стол* — *столы*, *река* — *реки*).\n",
        "В итальянском языке окончания для множественного числа различаются для мужского и женского рода: для мужского *-o* меняется на *-i* (*tavolo* — *tavoli*), для женского *-a* на *-e* (*ragazza* — *ragazze*)."
      ],
      "metadata": {
        "id": "e8oukKQaYv8T"
      }
    },
    {
      "cell_type": "markdown",
      "source": [],
      "metadata": {
        "id": "mVrtL-dNYs7f"
      }
    },
    {
      "cell_type": "markdown",
      "source": [
        "1. Для машинного перевода я выбрала русский и польский. Хоть они и принадлежат к группе славянских языков и имеют много общего, они также имеют некоторые различия, например, в правилах склонения и порядка слов.\n",
        "\n",
        "2. Пре-процессинг можно осуществить в несоклько шагов:\n",
        "- Токенизация\n",
        "- Нормализация текста\n",
        "- Лемматизация (в идеале)\n",
        "- Удаление стоп-слов\n",
        "\n",
        "Для этих операций можно использовать библиотеки *nltk, spacy, pymorphy, re и pandas*\n",
        "\n",
        "3. Несколько правил:\n",
        "*  В русском языке (устном и письменном) употребление местоимений важно и частотно. В польском же они очень часто опускаются и в разговорной, и в письменной речи. Местоимения *ja, ty, my, wy* опускаются практически всегда, кроме случаев, когда мы действительно считаем важным их употребить . К примеру, хотим подчеркнуть, что именно мы сделали что-то, а не кто-то другой.\n",
        "Кроме тогоь, местоимение \"они\" имеет две формы-мужскую и женскую *oni* (мужская компания)/*one* (женская компания и  неодушевленные предметы, животные и дети).\n",
        "Если в группе лиц есть хотя бы один мужчина –то *oni*.\n",
        "* Системы падежей, в целом, похож: каждому окончанию можно привести соответствие в русском: где русское *-ом* , в польском *-em*, *-e* и *-u*, *-ой* и *ą* и тд. НО! В дательном у большинства существительных мужского рода окончание не — *u* (*bratu*), а — *owi* (*domowi*). Что интересно, основные отличия приходятся на мужской род существительных.\n",
        "* Частица *się* — аналог показателя возвратности в русском. В польском она всегда пишется отдельно от глагола и может «гулять» по всему предложению: *Pan się myli* (Вы ошибаетесь)."
      ],
      "metadata": {
        "id": "0U5Dl2a8x8Y5"
      }
    },
    {
      "cell_type": "markdown",
      "source": [],
      "metadata": {
        "id": "SMK_Rg1Zx6y8"
      }
    }
  ]
}
